{
 "cells": [
  {
   "cell_type": "code",
   "execution_count": 1,
   "id": "b444f60c",
   "metadata": {},
   "outputs": [
    {
     "name": "stdout",
     "output_type": "stream",
     "text": [
      "Decision Tree Accuracy:  42.95117937465716 %\n",
      "Naive Bayes Accuracy:  51.28908392759188 %\n",
      "KNN Accuracy with 3 Neighbors:  47.06527701590784 %\n"
     ]
    }
   ],
   "source": [
    "import pandas as pd\n",
    "import matplotlib.pyplot as plt\n",
    "import numpy as np\n",
    "from sklearn import datasets, linear_model\n",
    "from sklearn.naive_bayes import GaussianNB\n",
    "from sklearn.neighbors import KNeighborsClassifier\n",
    "from sklearn.metrics import mean_squared_error, r2_score\n",
    "from sklearn.metrics import accuracy_score\n",
    "from sklearn import tree\n",
    "\n",
    "path = \"matches.csv\"\n",
    "datadf = pd.read_csv(path)\n",
    "\n",
    "datadf.loc[datadf[\"winner\"] == \"HOME_TEAM\", \"winner\"] = 0\n",
    "datadf.loc[datadf[\"winner\"] == \"AWAY_TEAM\", \"winner\"] = 2\n",
    "datadf.loc[datadf[\"winner\"] == \"DRAW\", \"winner\"] = 1\n",
    "\n",
    "datadf['home_team'] = datadf['home_team'].astype('category')\n",
    "datadf['away_team'] = datadf['away_team'].astype('category')\n",
    "\n",
    "datadf['home_team_cat'] = datadf['home_team'].cat.codes\n",
    "datadf['away_team_cat'] = datadf['away_team'].cat.codes\n",
    "\n",
    "datadf.insert(0, 'home_team_cat', datadf.pop('home_team_cat'))\n",
    "datadf.insert(0, 'away_team_cat', datadf.pop('away_team_cat'))\n",
    "\n",
    "datadf = datadf.drop(datadf.columns[[3,4,5,6,8,9,13,14,16,17,34,35,51]], axis = 1)\n",
    "\n",
    "datadf.insert(0, 'winner', datadf.pop('winner'))\n",
    "\n",
    "datadfTrain = datadf.sample(frac=0.7,random_state=10)\n",
    "\n",
    "datadfTest = datadf[~datadf.apply(tuple,1).isin(datadfTrain.apply(tuple,1))]\n",
    "\n",
    "X_train = datadfTrain.iloc[:, 1:]\n",
    "y_train = datadfTrain.iloc[:, 0]\n",
    "X_test = datadfTest.iloc[:, 1:]\n",
    "y_test = datadfTest.iloc[:, 0]\n",
    "y_test=y_test.astype('int')\n",
    "y_train=y_train.astype('int')\n",
    "\n",
    "clf = tree.DecisionTreeClassifier()\n",
    "clf = clf.fit(X_train, y_train)\n",
    "y_pred = clf.predict(X_test)\n",
    "print(\"Decision Tree Accuracy: \",accuracy_score(y_test, y_pred)*100, \"%\")\n",
    "\n",
    "clf1 = GaussianNB()\n",
    "clf1 = clf1.fit(X_train, y_train)\n",
    "y_pred = clf1.predict(X_test)\n",
    "print(\"Naive Bayes Accuracy: \",accuracy_score(y_test, y_pred)*100, \"%\")\n",
    "\n",
    "clf2 = KNeighborsClassifier(n_neighbors=3)\n",
    "clf2 = clf2.fit(X_train, y_train)\n",
    "y_pred = clf2.predict(X_test)\n",
    "print(\"KNN Accuracy with 3 Neighbors: \",accuracy_score(y_test, y_pred)*100, \"%\")"
   ]
  }
 ],
 "metadata": {
  "kernelspec": {
   "display_name": "Python 3 (ipykernel)",
   "language": "python",
   "name": "python3"
  },
  "language_info": {
   "codemirror_mode": {
    "name": "ipython",
    "version": 3
   },
   "file_extension": ".py",
   "mimetype": "text/x-python",
   "name": "python",
   "nbconvert_exporter": "python",
   "pygments_lexer": "ipython3",
   "version": "3.8.13"
  }
 },
 "nbformat": 4,
 "nbformat_minor": 5
}
